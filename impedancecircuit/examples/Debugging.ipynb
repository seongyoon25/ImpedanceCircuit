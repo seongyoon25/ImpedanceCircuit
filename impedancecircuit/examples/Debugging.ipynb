{
 "cells": [
  {
   "cell_type": "code",
   "execution_count": 1,
   "metadata": {},
   "outputs": [],
   "source": [
    "import numpy as np\n",
    "import pandas as pd"
   ]
  },
  {
   "cell_type": "code",
   "execution_count": 2,
   "metadata": {},
   "outputs": [],
   "source": [
    "import glob\n",
    "import matplotlib.pyplot as plt\n",
    "from scipy.optimize import least_squares"
   ]
  },
  {
   "cell_type": "code",
   "execution_count": 3,
   "metadata": {},
   "outputs": [],
   "source": [
    "import sys\n",
    "sys.path.insert(0, '/home/ubuntu/seongyoon/PI/Impedance')"
   ]
  },
  {
   "cell_type": "code",
   "execution_count": 4,
   "metadata": {},
   "outputs": [],
   "source": [
    "cellname = '25C01'\n",
    "# Cell name list\n",
    "# 25C01\n",
    "# 25C02\n",
    "# 25C03\n",
    "# 25C04\n",
    "# 25C05\n",
    "# 25C06\n",
    "# 25C07\n",
    "# 25C08\n",
    "# 35C01\n",
    "# 35C02\n",
    "# 45C01\n",
    "# 45C02\n",
    "\n",
    "datapath = './data/Cavendish/'\n",
    "\n",
    "filename = f'{datapath}EIS_state_V_{cellname}.txt'\n",
    "\n",
    "data = pd.read_csv(filename, delimiter='\\t')\n",
    "data.columns = data.columns.str.strip()"
   ]
  },
  {
   "cell_type": "code",
   "execution_count": 5,
   "metadata": {},
   "outputs": [],
   "source": [
    "cellname = '25C01'\n",
    "datapath = '../examples/data/Cavendish/'\n",
    "filename = f'{datapath}EIS_state_V_{cellname}.txt'\n",
    "\n",
    "data = pd.read_csv(filename, delimiter='\\t')\n",
    "data.columns = data.columns.str.strip()\n",
    "\n",
    "cycle = 1\n",
    "data_real = data[data['cycle number'] == cycle]['Re(Z)/Ohm'].values\n",
    "data_imag = data[data['cycle number'] == cycle]['-Im(Z)/Ohm'].values\n",
    "data_freq = data[data['cycle number'] == cycle]['freq/Hz'].values\n",
    "\n",
    "impedance = np.concatenate([data_real, data_imag])"
   ]
  },
  {
   "cell_type": "code",
   "execution_count": 6,
   "metadata": {},
   "outputs": [],
   "source": [
    "from impedancecircuit.models.elements import R, C, L, CPE, p"
   ]
  },
  {
   "cell_type": "code",
   "execution_count": 7,
   "metadata": {},
   "outputs": [],
   "source": [
    "custom_initial_guess = np.ones(10)\n",
    "custom_initial_guess[1] = np.log(min(data_real))\n",
    "custom_initial_guess[0] = np.log(abs(data_imag[np.argmin(data_real)])/(2*np.pi*data_freq[np.argmin(data_real)]))\n",
    "\n",
    "# custom_initial_guess[0] = 5.29e-7\n",
    "# custom_initial_guess[1] = 0.35462\n",
    "# custom_initial_guess[2] = 0.41355\n",
    "# custom_initial_guess[3] = 0.037494\n",
    "# custom_initial_guess[4] = 0.53428\n",
    "# custom_initial_guess[5] = 0.27884\n",
    "# custom_initial_guess[6] = 0.041607\n",
    "# custom_initial_guess[7] = 0.85633\n",
    "# custom_initial_guess[8] = 9.8113\n",
    "# custom_initial_guess[9] = 0.64546"
   ]
  },
  {
   "cell_type": "code",
   "execution_count": 8,
   "metadata": {},
   "outputs": [],
   "source": [
    "sigmoid_idx = np.zeros(len(custom_initial_guess), dtype=int)\n",
    "sigmoid_idx[[4, 7, 9]] = 1\n",
    "\n",
    "def sigmoid(x):\n",
    "    # return 1./(1.+np.exp(-x))\n",
    "    return np.where(x < 0, np.exp(x) / (1.+np.exp(x)), 1./(1.+np.exp(-x)))\n",
    "\n",
    "def circuit_func(frequency, *parameters):\n",
    "    parameters = np.array(parameters)\n",
    "    parameters = np.where(sigmoid_idx,\n",
    "                            sigmoid(parameters),\n",
    "                            np.exp(parameters))\n",
    "    # parameters[sigmoid_idx] = sigmoid(parameters[sigmoid_idx])\n",
    "    # parameters[softplus_idx] = softplus(parameters[softplus_idx])\n",
    "    # Temporarily fixed circuit\n",
    "    z = L([parameters[0]], frequency) + \\\n",
    "        R([parameters[1]], frequency) + \\\n",
    "        p([R([parameters[2]], frequency),\n",
    "            CPE([parameters[3], parameters[4]], frequency)]) + \\\n",
    "        p([R([parameters[5]], frequency),\n",
    "            CPE([parameters[6], parameters[7]], frequency)]) + \\\n",
    "        CPE([parameters[8], parameters[9]], frequency)\n",
    "    z_real = np.real(z)\n",
    "    z_imag = -np.imag(z)\n",
    "    return np.hstack([z_real, z_imag])"
   ]
  },
  {
   "cell_type": "code",
   "execution_count": 9,
   "metadata": {},
   "outputs": [
    {
     "data": {
      "text/plain": [
       "array([-15.09028706,  -0.95529147,   1.        ,   1.        ,\n",
       "         1.        ,   1.        ,   1.        ,   1.        ,\n",
       "         1.        ,   1.        ])"
      ]
     },
     "execution_count": 9,
     "metadata": {},
     "output_type": "execute_result"
    }
   ],
   "source": [
    "custom_initial_guess"
   ]
  },
  {
   "cell_type": "code",
   "execution_count": 10,
   "metadata": {},
   "outputs": [
    {
     "data": {
      "image/png": "[encoded data removed]",
      "text/plain": [
       "<Figure size 432x288 with 1 Axes>"
      ]
     },
     "metadata": {
      "needs_background": "light"
     },
     "output_type": "display_data"
    },
    {
     "data": {
      "text/plain": [
       "L     5.289979e-07\n",
       "R0    3.546166e-01\n",
       "R1    4.135512e-01\n",
       "Q1    3.749381e-02\n",
       "a1    5.342807e-01\n",
       "R2    2.788388e-01\n",
       "Q2    4.160656e-02\n",
       "a2    8.563343e-01\n",
       "Q3    9.811303e+00\n",
       "a3    6.454580e-01\n",
       "dtype: float64"
      ]
     },
     "execution_count": 10,
     "metadata": {},
     "output_type": "execute_result"
    }
   ],
   "source": [
    "# parameters, _ = curve_fit(circuit_func, data_freq, impedance,\n",
    "                        #   p0=custom_initial_guess, method='lm')#, factor=100, ftol=1e-6, xtol=1e-6)#, maxfev=10000)\n",
    "\n",
    "results = least_squares(lambda x: circuit_func(data_freq, *x) - impedance, x0=custom_initial_guess, method='lm', x_scale='jac')\n",
    "parameters = results.x\n",
    "\n",
    "impedance_pred = circuit_func(data_freq, *parameters)\n",
    "\n",
    "plt.plot(data_real, data_imag, '.', label='Observed')\n",
    "plt.plot(impedance_pred[:len(impedance_pred)//2], impedance_pred[len(impedance_pred)//2:], '-', label='Predicted')\n",
    "plt.legend()\n",
    "plt.show()\n",
    "\n",
    "pd.Series(np.where(sigmoid_idx,sigmoid(parameters),np.exp(parameters)), index=['L', 'R0', 'R1', 'Q1', 'a1', 'R2', 'Q2', 'a2', 'Q3', 'a3'])"
   ]
  },
  {
   "cell_type": "code",
   "execution_count": 183,
   "metadata": {},
   "outputs": [
    {
     "data": {
      "text/plain": [
       "array([-12.81747677, -15.2365683 ,  -0.55661466,  -2.18573143,\n",
       "         0.02449413,  -0.66470356, -11.49711623,  15.74050363,\n",
       "        15.30133594,  -7.40653275])"
      ]
     },
     "execution_count": 183,
     "metadata": {},
     "output_type": "execute_result"
    }
   ],
   "source": [
    "parameters"
   ]
  },
  {
   "cell_type": "code",
   "execution_count": 184,
   "metadata": {},
   "outputs": [
    {
     "data": {
      "text/plain": [
       "L     2.712942e-06\n",
       "R0    2.414585e-07\n",
       "R1    5.731461e-01\n",
       "Q1    1.123955e-01\n",
       "a1    5.061232e-01\n",
       "R2    5.144260e-01\n",
       "Q2    1.015935e-05\n",
       "a2    9.999999e-01\n",
       "Q3    4.418611e+06\n",
       "a3    6.069041e-04\n",
       "dtype: float64"
      ]
     },
     "execution_count": 184,
     "metadata": {},
     "output_type": "execute_result"
    }
   ],
   "source": [
    "pd.Series(np.where(sigmoid_idx,sigmoid(parameters),np.exp(parameters)), index=['L', 'R0', 'R1', 'Q1', 'a1', 'R2', 'Q2', 'a2', 'Q3', 'a3'])"
   ]
  },
  {
   "cell_type": "code",
   "execution_count": 117,
   "metadata": {},
   "outputs": [
    {
     "data": {
      "image/png": "[encoded data removed]",
      "text/plain": [
       "<Figure size 432x288 with 1 Axes>"
      ]
     },
     "metadata": {
      "needs_background": "light"
     },
     "output_type": "display_data"
    }
   ],
   "source": [
    "impedance_pred = circuit_func(data_freq, *parameters)\n",
    "\n",
    "plt.plot(data_real, data_imag, '.', label='Observed')\n",
    "plt.plot(impedance_pred[:len(impedance_pred)//2], -impedance_pred[len(impedance_pred)//2:], '-', label='Predicted')\n",
    "plt.legend()\n",
    "plt.show()"
   ]
  },
  {
   "cell_type": "code",
   "execution_count": null,
   "metadata": {},
   "outputs": [],
   "source": []
  },
  {
   "cell_type": "code",
   "execution_count": null,
   "metadata": {},
   "outputs": [],
   "source": []
  },
  {
   "cell_type": "code",
   "execution_count": 176,
   "metadata": {},
   "outputs": [
    {
     "data": {
      "image/png": "[encoded data removed]",
      "text/plain": [
       "<Figure size 432x288 with 1 Axes>"
      ]
     },
     "metadata": {
      "needs_background": "light"
     },
     "output_type": "display_data"
    }
   ],
   "source": [
    "def test_func(x, *parameters):\n",
    "    return parameters[0] + x*parameters[1]\n",
    "\n",
    "xxx = np.linspace(0, 1, 101)\n",
    "yyy = 10 + xxx*5 + np.random.randn(len(xxx))*0.1\n",
    "\n",
    "results = least_squares(lambda p: test_func(xxx, *p) - yyy, x0=[5, 2], method='lm')\n",
    "\n",
    "yyy_pred = test_func(xxx, *results.x)\n",
    "\n",
    "plt.plot(xxx, yyy, '.', label='Observed')\n",
    "plt.plot(xxx, yyy_pred, '-', label='Predicted')\n",
    "plt.legend()\n",
    "plt.show()"
   ]
  },
  {
   "cell_type": "code",
   "execution_count": null,
   "metadata": {},
   "outputs": [],
   "source": []
  }
 ],
 "metadata": {
  "kernelspec": {
   "display_name": "yoomtorch",
   "language": "python",
   "name": "yoomtorch"
  },
  "language_info": {
   "codemirror_mode": {
    "name": "ipython",
    "version": 3
   },
   "file_extension": ".py",
   "mimetype": "text/x-python",
   "name": "python",
   "nbconvert_exporter": "python",
   "pygments_lexer": "ipython3",
   "version": "3.9.7"
  },
  "orig_nbformat": 4
 },
 "nbformat": 4,
 "nbformat_minor": 2
}
