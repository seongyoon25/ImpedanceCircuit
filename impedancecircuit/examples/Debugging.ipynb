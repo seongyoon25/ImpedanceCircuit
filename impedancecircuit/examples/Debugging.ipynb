{
 "cells": [
  {
   "cell_type": "code",
   "execution_count": 1,
   "metadata": {},
   "outputs": [],
   "source": [
    "import numpy as np\n",
    "import pandas as pd"
   ]
  },
  {
   "cell_type": "code",
   "execution_count": 2,
   "metadata": {},
   "outputs": [],
   "source": [
    "import glob\n",
    "import matplotlib.pyplot as plt\n",
    "from scipy.optimize import curve_fit"
   ]
  },
  {
   "cell_type": "code",
   "execution_count": 3,
   "metadata": {},
   "outputs": [],
   "source": [
    "import sys\n",
    "sys.path.insert(0, '/home/ubuntu/seongyoon/PI/Impedance')"
   ]
  },
  {
   "cell_type": "code",
   "execution_count": 4,
   "metadata": {},
   "outputs": [],
   "source": [
    "cellname = '25C01'\n",
    "# Cell name list\n",
    "# 25C01\n",
    "# 25C02\n",
    "# 25C03\n",
    "# 25C04\n",
    "# 25C05\n",
    "# 25C06\n",
    "# 25C07\n",
    "# 25C08\n",
    "# 35C01\n",
    "# 35C02\n",
    "# 45C01\n",
    "# 45C02\n",
    "\n",
    "datapath = './data/Cavendish/'\n",
    "\n",
    "filename = f'{datapath}EIS_state_V_{cellname}.txt'\n",
    "\n",
    "data = pd.read_csv(filename, delimiter='\\t')\n",
    "data.columns = data.columns.str.strip()"
   ]
  },
  {
   "cell_type": "code",
   "execution_count": 5,
   "metadata": {},
   "outputs": [],
   "source": [
    "cellname = '25C01'\n",
    "datapath = '../examples/data/Cavendish/'\n",
    "filename = f'{datapath}EIS_state_V_{cellname}.txt'\n",
    "\n",
    "data = pd.read_csv(filename, delimiter='\\t')\n",
    "data.columns = data.columns.str.strip()\n",
    "\n",
    "cycle = 261\n",
    "data_real = data[data['cycle number'] == cycle]['Re(Z)/Ohm'].values\n",
    "data_imag = data[data['cycle number'] == cycle]['-Im(Z)/Ohm'].values\n",
    "data_freq = data[data['cycle number'] == cycle]['freq/Hz'].values\n",
    "\n",
    "impedance = np.concatenate([data_real, data_imag])"
   ]
  },
  {
   "cell_type": "code",
   "execution_count": 6,
   "metadata": {},
   "outputs": [],
   "source": [
    "from impedancecircuit.models.elements import R, C, L, CPE, p"
   ]
  },
  {
   "cell_type": "code",
   "execution_count": 24,
   "metadata": {},
   "outputs": [],
   "source": [
    "custom_initial_guess = np.zeros(7)\n",
    "custom_initial_guess[1] = np.log(min(data_real))\n",
    "custom_initial_guess[0] = np.log(abs(data_imag[np.argmin(data_real)])/(2*np.pi*data_freq[np.argmin(data_real)]))"
   ]
  },
  {
   "cell_type": "code",
   "execution_count": 25,
   "metadata": {},
   "outputs": [],
   "source": [
    "sigmoid_idx = np.zeros(len(custom_initial_guess), dtype=int)\n",
    "sigmoid_idx[[4, 6]] = 1\n",
    "\n",
    "def sigmoid(x):\n",
    "    return 1./(1.+np.exp(-x))\n",
    "\n",
    "def circuit_func(frequency, *parameters):\n",
    "    parameters = np.array(parameters)\n",
    "    parameters = np.where(sigmoid_idx,\n",
    "                            sigmoid(parameters),\n",
    "                            np.exp(parameters))\n",
    "    # parameters[sigmoid_idx] = sigmoid(parameters[sigmoid_idx])\n",
    "    # parameters[softplus_idx] = softplus(parameters[softplus_idx])\n",
    "    # Temporarily fixed circuit\n",
    "    z = L([parameters[0],], frequency) + \\\n",
    "        R([parameters[1],], frequency) + \\\n",
    "        p([R([parameters[2],], frequency),\n",
    "            CPE([parameters[3], parameters[4]], frequency)]) + \\\n",
    "        CPE([parameters[5], parameters[6]], frequency)\n",
    "    z_real = np.real(z)\n",
    "    z_imag = np.imag(z)\n",
    "    return np.hstack([z_real, z_imag])"
   ]
  },
  {
   "cell_type": "code",
   "execution_count": 26,
   "metadata": {},
   "outputs": [],
   "source": [
    "parameters, _ = curve_fit(circuit_func, data_freq, impedance,\n",
    "                          p0=custom_initial_guess, method='lm', maxfev=10000)"
   ]
  },
  {
   "cell_type": "code",
   "execution_count": 29,
   "metadata": {},
   "outputs": [
    {
     "data": {
      "text/plain": [
       "array([5.39662340e-07, 4.99333443e-01, 1.04245172e+00, 1.05257207e-01,\n",
       "       5.06410141e-01, 2.58046073e+01, 2.78942321e-06])"
      ]
     },
     "execution_count": 29,
     "metadata": {},
     "output_type": "execute_result"
    }
   ],
   "source": [
    "np.where(sigmoid_idx,sigmoid(parameters),np.exp(parameters))"
   ]
  },
  {
   "cell_type": "code",
   "execution_count": 27,
   "metadata": {},
   "outputs": [
    {
     "data": {
      "image/png": "[encoded data removed]",
      "text/plain": [
       "<Figure size 432x288 with 1 Axes>"
      ]
     },
     "metadata": {
      "needs_background": "light"
     },
     "output_type": "display_data"
    }
   ],
   "source": [
    "impedance_pred = circuit_func(data_freq, *parameters)\n",
    "\n",
    "plt.plot(data_real, data_imag, '.', label='Observed')\n",
    "plt.plot(impedance_pred[:len(impedance_pred)//2], impedance_pred[len(impedance_pred)//2:], '-', label='Predicted')\n",
    "plt.legend()\n",
    "plt.show()"
   ]
  }
 ],
 "metadata": {
  "kernelspec": {
   "display_name": "yoomtorch",
   "language": "python",
   "name": "yoomtorch"
  },
  "language_info": {
   "codemirror_mode": {
    "name": "ipython",
    "version": 3
   },
   "file_extension": ".py",
   "mimetype": "text/x-python",
   "name": "python",
   "nbconvert_exporter": "python",
   "pygments_lexer": "ipython3",
   "version": "3.9.7"
  },
  "orig_nbformat": 4
 },
 "nbformat": 4,
 "nbformat_minor": 2
}
